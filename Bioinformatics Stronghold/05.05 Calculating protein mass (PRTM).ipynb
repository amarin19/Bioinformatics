{
 "cells": [
  {
   "cell_type": "code",
   "execution_count": 1,
   "metadata": {
    "collapsed": false
   },
   "outputs": [
    {
     "name": "stdout",
     "output_type": "stream",
     "text": [
      "99165.334\n"
     ]
    }
   ],
   "source": [
    "rawweight = ['A71.03711', 'C103.00919', 'D115.02694', 'E129.04259', 'F147.06841', 'G57.02146', 'H137.05891', 'I113.08406',\n",
    "             'K128.09496', 'L113.08406', 'M131.04049', 'N114.04293', 'P97.05276', 'Q128.05858', 'R156.10111', 'S87.03203',\n",
    "             'T101.04768','V99.06841', 'W186.07931', 'Y163.06333']\n",
    "weights = {}\n",
    "for i in range(len(rawweight)):\n",
    "    weights[rawweight[i][0]]= float(rawweight[i][1:])\n",
    "\n",
    "prot = open('rosalind_prtm.txt', 'r').read().strip()\n",
    "print(round(sum(weights[a] for a in prot),3))"
   ]
  }
 ],
 "metadata": {
  "kernelspec": {
   "display_name": "Python 3",
   "language": "python",
   "name": "python3"
  },
  "language_info": {
   "codemirror_mode": {
    "name": "ipython",
    "version": 3
   },
   "file_extension": ".py",
   "mimetype": "text/x-python",
   "name": "python",
   "nbconvert_exporter": "python",
   "pygments_lexer": "ipython3",
   "version": "3.5.1"
  }
 },
 "nbformat": 4,
 "nbformat_minor": 0
}
