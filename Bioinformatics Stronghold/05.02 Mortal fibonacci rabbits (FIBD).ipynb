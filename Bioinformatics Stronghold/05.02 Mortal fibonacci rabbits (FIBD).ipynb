{
 "cells": [
  {
   "cell_type": "code",
   "execution_count": 1,
   "metadata": {
    "collapsed": false
   },
   "outputs": [
    {
     "name": "stdout",
     "output_type": "stream",
     "text": [
      "98882928497398660\n"
     ]
    }
   ],
   "source": [
    "n, k = list(map(int,open('rosalind_fibd.txt','r').read().strip().split(' ')))\n",
    "ages = [1] + [0]*(k-1)\n",
    "for i in range(n-1):\n",
    "    ages = [sum(ages[1:])] + ages[:-1]\n",
    "print(sum(ages))"
   ]
  }
 ],
 "metadata": {
  "kernelspec": {
   "display_name": "Python 3",
   "language": "python",
   "name": "python3"
  },
  "language_info": {
   "codemirror_mode": {
    "name": "ipython",
    "version": 3
   },
   "file_extension": ".py",
   "mimetype": "text/x-python",
   "name": "python",
   "nbconvert_exporter": "python",
   "pygments_lexer": "ipython3",
   "version": "3.5.1"
  }
 },
 "nbformat": 4,
 "nbformat_minor": 0
}
