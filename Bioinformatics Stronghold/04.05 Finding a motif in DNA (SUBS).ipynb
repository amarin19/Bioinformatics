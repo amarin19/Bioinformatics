{
 "cells": [
  {
   "cell_type": "code",
   "execution_count": 1,
   "metadata": {
    "collapsed": false
   },
   "outputs": [
    {
     "name": "stdout",
     "output_type": "stream",
     "text": [
      "26 33 54 88 108 158 165 214 232 239 246 272 316 437 516 581 605 719\n"
     ]
    }
   ],
   "source": [
    "s, t = open('rosalind_subs.txt', 'r').read().strip().split('\\n')\n",
    "pos = ''\n",
    "for i in range(len(s)-len(t)):\n",
    "    if t in s[i:i+len(t)]:\n",
    "        pos += '{} '.format(str(i+1))\n",
    "print(pos[:-1])"
   ]
  }
 ],
 "metadata": {
  "kernelspec": {
   "display_name": "Python 3",
   "language": "python",
   "name": "python3"
  },
  "language_info": {
   "codemirror_mode": {
    "name": "ipython",
    "version": 3
   },
   "file_extension": ".py",
   "mimetype": "text/x-python",
   "name": "python",
   "nbconvert_exporter": "python",
   "pygments_lexer": "ipython3",
   "version": "3.5.1"
  }
 },
 "nbformat": 4,
 "nbformat_minor": 0
}
