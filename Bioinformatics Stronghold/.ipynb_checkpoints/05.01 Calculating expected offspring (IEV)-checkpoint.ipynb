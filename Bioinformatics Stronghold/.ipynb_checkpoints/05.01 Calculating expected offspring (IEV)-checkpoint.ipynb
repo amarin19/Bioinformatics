{
 "cells": [
  {
   "cell_type": "code",
   "execution_count": 1,
   "metadata": {
    "collapsed": false
   },
   "outputs": [
    {
     "name": "stdout",
     "output_type": "stream",
     "text": [
      "154842.0\n"
     ]
    }
   ],
   "source": [
    "n = list(map(int, open('rosalind_iev.txt','r').read().strip().split(' ')))\n",
    "k = [1, 1, 1, 3/4, 1/2, 0]\n",
    "print(sum(2*n[i]*k[i] for i in range(len(n))))"
   ]
  }
 ],
 "metadata": {
  "kernelspec": {
   "display_name": "Python 3",
   "language": "python",
   "name": "python3"
  },
  "language_info": {
   "codemirror_mode": {
    "name": "ipython",
    "version": 3
   },
   "file_extension": ".py",
   "mimetype": "text/x-python",
   "name": "python",
   "nbconvert_exporter": "python",
   "pygments_lexer": "ipython3",
   "version": "3.5.1"
  }
 },
 "nbformat": 4,
 "nbformat_minor": 0
}
