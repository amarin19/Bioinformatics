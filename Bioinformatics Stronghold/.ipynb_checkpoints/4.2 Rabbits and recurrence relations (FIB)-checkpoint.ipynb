{
 "cells": [
  {
   "cell_type": "code",
   "execution_count": 1,
   "metadata": {
    "collapsed": false
   },
   "outputs": [
    {
     "name": "stdout",
     "output_type": "stream",
     "text": [
      "3048504677680\n"
     ]
    }
   ],
   "source": [
    "def fiborabbit(n,k):\n",
    "    '''Returns the number of rabbits after n months if every rabbit has\n",
    "    k offspring and it takes 1 month to become adults.'''\n",
    "    F = [1,1]\n",
    "    for i in range(2,n):\n",
    "        F[1], F[0] = F[1]+k*F[0], F[1]\n",
    "    return F[1]\n",
    "\n",
    "n, k = map(int, open('rosalind_fib.txt', 'r').readline().strip().split(' '))\n",
    "print(fiborabbit(n, k))"
   ]
  }
 ],
 "metadata": {
  "kernelspec": {
   "display_name": "Python 3",
   "language": "python",
   "name": "python3"
  },
  "language_info": {
   "codemirror_mode": {
    "name": "ipython",
    "version": 3
   },
   "file_extension": ".py",
   "mimetype": "text/x-python",
   "name": "python",
   "nbconvert_exporter": "python",
   "pygments_lexer": "ipython3",
   "version": "3.5.1"
  }
 },
 "nbformat": 4,
 "nbformat_minor": 0
}
