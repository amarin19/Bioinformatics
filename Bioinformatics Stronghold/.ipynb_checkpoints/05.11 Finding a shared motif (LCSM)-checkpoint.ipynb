{
 "cells": [
  {
   "cell_type": "code",
   "execution_count": 1,
   "metadata": {
    "collapsed": false
   },
   "outputs": [],
   "source": [
    "f = open('rosalind_lcsm.txt', 'r').read().strip().split('\\n')\n",
    "f.append('>')\n",
    "seqs = []\n",
    "DNA = ''\n",
    "for i in range(1, len(f)):\n",
    "    if f[i][0] != '>':\n",
    "        DNA += f[i]\n",
    "    else:\n",
    "        seqs.append(DNA)\n",
    "        DNA = ''"
   ]
  },
  {
   "cell_type": "code",
   "execution_count": 2,
   "metadata": {
    "collapsed": false
   },
   "outputs": [
    {
     "name": "stdout",
     "output_type": "stream",
     "text": [
      "ATAAACCTTCATGAAACAAGGGCCCACGTGGCTGTGCGATATGTCCGGCGAGGTTAGCGGTAGGAGTTGCTGTATATGCAAAGAGAGCGTCCGTCATCGTCTAAACTTTCTATGTCAACGACACGCACCAGTCGGGTCAATGGTATTTGAGGCTGGTAATCTTATTTCACCATTTAAATATAGAGTCGCCGTACTCGCTACAGGAAATCTCCCGAGTGCAGAGAA\n"
     ]
    }
   ],
   "source": [
    "motif = ''\n",
    "for start in range(len(seqs[0])):\n",
    "    for ending in range(len(min(seqs))):\n",
    "        part = seqs[0][start:start+ending+1]\n",
    "        if all(part in chunk for chunk in seqs) and len(motif)<len(part):\n",
    "            motif = part\n",
    "print(motif)"
   ]
  }
 ],
 "metadata": {
  "kernelspec": {
   "display_name": "Python 3",
   "language": "python",
   "name": "python3"
  },
  "language_info": {
   "codemirror_mode": {
    "name": "ipython",
    "version": 3
   },
   "file_extension": ".py",
   "mimetype": "text/x-python",
   "name": "python",
   "nbconvert_exporter": "python",
   "pygments_lexer": "ipython3",
   "version": "3.5.1"
  }
 },
 "nbformat": 4,
 "nbformat_minor": 0
}
