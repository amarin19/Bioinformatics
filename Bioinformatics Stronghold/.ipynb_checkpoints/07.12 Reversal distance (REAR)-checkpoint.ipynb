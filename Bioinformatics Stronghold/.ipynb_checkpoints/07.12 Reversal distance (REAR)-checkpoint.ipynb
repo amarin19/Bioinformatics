{
 "cells": [
  {
   "cell_type": "code",
   "execution_count": 1,
   "metadata": {},
   "outputs": [],
   "source": [
    "with open('prova.txt','r') as file:\n",
    "    a = file.readlines()\n",
    "    start, end = [], []\n",
    "    for i in range(len(a)):\n",
    "        if len(a[i]) > 1:\n",
    "            aux = [int(n) for n in a[i].strip().split(' ')]\n",
    "        if i%3 == 0:\n",
    "            start.append(aux)\n",
    "        elif i%3 == 1:\n",
    "            end.append(aux)\n",
    "        else:\n",
    "            continue"
   ]
  },
  {
   "cell_type": "code",
   "execution_count": 2,
   "metadata": {},
   "outputs": [
    {
     "name": "stdout",
     "output_type": "stream",
     "text": [
      "9\n",
      "4\n",
      "7\n",
      "8\n",
      "0\n"
     ]
    }
   ],
   "source": [
    "counts = []\n",
    "for origin, destiny in zip(start,end):\n",
    "    a = origin.copy()\n",
    "    b = destiny.copy()\n",
    "    c = 0\n",
    "    for i in range(len(a)):\n",
    "        if a[i] != b[i]:\n",
    "            c+=1\n",
    "            for j in range(i,len(a)):\n",
    "                if a[j] == b[i]:\n",
    "                    a[i:j+1] = a[i:j+1][::-1]\n",
    "                    break\n",
    "    \n",
    "    print(c)"
   ]
  },
  {
   "cell_type": "code",
   "execution_count": 26,
   "metadata": {},
   "outputs": [
    {
     "name": "stdout",
     "output_type": "stream",
     "text": [
      "========================\n",
      "2 4 1 6 3 8 5 0 7 9 : 2\n",
      "- -\n",
      "4 2 1 6 3 8 5 0 7 9 : 4\n",
      "- - - -\n",
      "6 1 2 4 3 8 5 0 7 9 : 6\n",
      "- - - - - -\n",
      "8 3 4 2 1 6 5 0 7 9 : 8\n",
      "- - - - - - - -\n",
      "4\n",
      "========================\n",
      "3 7 8 2 1 6 5 4 9 0 : 3\n",
      "- - -\n",
      "8 7 3 2 1 6 5 4 9 0 : 7\n",
      "  - - - - - -\n",
      "8 5 6 1 2 3 7 4 9 0 : 8\n",
      "- - - - - - - -\n",
      "3\n",
      "========================\n",
      "1 4 3 5 0 6 8 9 2 7 : 4\n",
      "  - - -\n",
      "1 5 3 4 0 6 8 9 2 7 : 5\n",
      "  - - - -\n",
      "1 0 4 3 5 6 8 9 2 7 : 8\n",
      "            - -\n",
      "1 0 4 3 5 6 9 8 2 7 : 9\n",
      "            - - -\n",
      "4\n",
      "========================\n",
      "7 2 0 8 5 3 9 6 4 1 : 7\n",
      "- - - - - - -\n",
      "9 3 5 8 0 2 7 6 4 1 : 8\n",
      "      - - - - -\n",
      "9 3 5 6 7 2 0 8 4 1 : 9\n",
      "- - - - - - - - -\n",
      "3\n",
      "========================\n",
      "0\n"
     ]
    }
   ],
   "source": [
    "for origin, destiny in zip(start,end):\n",
    "    a = origin.copy()\n",
    "    b = destiny.copy()\n",
    "    p = [None] * len(b)\n",
    "    for i, n in enumerate(b):\n",
    "        p[n - 1] = i + 1 \n",
    "    t = []\n",
    "    for n in a:\n",
    "        t.append(p[n - 1])\n",
    "    l = len(t)\n",
    "    r = 0\n",
    "    print('='*24)\n",
    "    for j in range(l):\n",
    "        for i in range(l):\n",
    "            if t[i] == j:\n",
    "                break\n",
    "        if (j - i) > 1:\n",
    "            print(' '.join([str(0 if x == 10 else x) for x in t]), ':', j)\n",
    "            print(' '.join(([' '] * i) + (['-'] * (j - i))))\n",
    "            t[i:j] = reversed(t[i:j])\n",
    "            r += 1\n",
    "\n",
    "    print(r)"
   ]
  },
  {
   "cell_type": "code",
   "execution_count": null,
   "metadata": {},
   "outputs": [],
   "source": [
    "range()"
   ]
  }
 ],
 "metadata": {
  "kernelspec": {
   "display_name": "Python 3",
   "language": "python",
   "name": "python3"
  },
  "language_info": {
   "codemirror_mode": {
    "name": "ipython",
    "version": 3
   },
   "file_extension": ".py",
   "mimetype": "text/x-python",
   "name": "python",
   "nbconvert_exporter": "python",
   "pygments_lexer": "ipython3",
   "version": "3.5.2"
  }
 },
 "nbformat": 4,
 "nbformat_minor": 2
}
