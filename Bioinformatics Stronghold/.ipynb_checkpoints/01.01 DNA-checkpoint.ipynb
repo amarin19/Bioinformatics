{
 "cells": [
  {
   "cell_type": "code",
   "execution_count": 1,
   "metadata": {
    "collapsed": false
   },
   "outputs": [
    {
     "name": "stdout",
     "output_type": "stream",
     "text": [
      "210 216 217 207\n"
     ]
    }
   ],
   "source": [
    "f = open('rosalind_dna.txt','r')\n",
    "S = f.readline().strip()\n",
    "Z = [S.count('A'), S.count('C'), S.count('G'), S.count('T')]\n",
    "print(*Z)"
   ]
  },
  {
   "cell_type": "code",
   "execution_count": 2,
   "metadata": {
    "collapsed": false
   },
   "outputs": [
    {
     "name": "stdout",
     "output_type": "stream",
     "text": [
      "210 216 217 207\n"
     ]
    }
   ],
   "source": [
    "#En una línia: el comand \"map(funció, què)\" aplica la funció a tots els elements del què\n",
    "#i l'asterisc m'imprimeix una llista sense \",\" ni \"[\" ni \"]\".\n",
    "print(*map(open('rosalind_dna.txt','r').readline().strip().count, 'ACGT'))"
   ]
  }
 ],
 "metadata": {
  "kernelspec": {
   "display_name": "Python 3",
   "language": "python",
   "name": "python3"
  },
  "language_info": {
   "codemirror_mode": {
    "name": "ipython",
    "version": 3
   },
   "file_extension": ".py",
   "mimetype": "text/x-python",
   "name": "python",
   "nbconvert_exporter": "python",
   "pygments_lexer": "ipython3",
   "version": "3.5.1"
  }
 },
 "nbformat": 4,
 "nbformat_minor": 0
}
