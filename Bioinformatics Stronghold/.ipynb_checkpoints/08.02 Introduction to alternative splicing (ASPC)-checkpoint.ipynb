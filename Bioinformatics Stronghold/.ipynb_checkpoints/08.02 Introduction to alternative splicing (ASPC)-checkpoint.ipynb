{
 "cells": [
  {
   "cell_type": "code",
   "execution_count": 1,
   "metadata": {
    "collapsed": false
   },
   "outputs": [
    {
     "name": "stdout",
     "output_type": "stream",
     "text": [
      "856931\n"
     ]
    }
   ],
   "source": [
    "A = list(map(int, open('rosalind_aspc.txt', 'r').read().strip().split(' ')))\n",
    "n, m = A[0], A[1]\n",
    "\n",
    "from math import factorial\n",
    "\n",
    "val=0\n",
    "for k in range (m, n+1): \n",
    "    val += factorial(n)//(factorial(k)*factorial(n-k))\n",
    "print(val%1000000)"
   ]
  }
 ],
 "metadata": {
  "kernelspec": {
   "display_name": "Python 3",
   "language": "python",
   "name": "python3"
  },
  "language_info": {
   "codemirror_mode": {
    "name": "ipython",
    "version": 3
   },
   "file_extension": ".py",
   "mimetype": "text/x-python",
   "name": "python",
   "nbconvert_exporter": "python",
   "pygments_lexer": "ipython3",
   "version": "3.5.1"
  }
 },
 "nbformat": 4,
 "nbformat_minor": 0
}
