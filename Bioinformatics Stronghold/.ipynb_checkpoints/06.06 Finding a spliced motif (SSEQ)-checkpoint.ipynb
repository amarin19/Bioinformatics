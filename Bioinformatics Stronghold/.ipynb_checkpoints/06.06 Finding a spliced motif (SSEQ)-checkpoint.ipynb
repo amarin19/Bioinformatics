{
 "cells": [
  {
   "cell_type": "code",
   "execution_count": 1,
   "metadata": {
    "collapsed": false
   },
   "outputs": [
    {
     "name": "stdout",
     "output_type": "stream",
     "text": [
      "6 13 20 28 29 30 33 36 38 41 45 47 48 50 53 57 64 66 72 73 75 87 94 97 99 105 110 114 118 121 130 137 138 150 168 170 172 173 174 175 180 181 185 191 197 202 210 214 221 223 225 226 236 238 239 240 242 246 251\n"
     ]
    }
   ],
   "source": [
    "seqs = []\n",
    "f = open('rosalind_sseq.txt','r').read().split('>')[1:]\n",
    "for entry in f:\n",
    "    seqs.append(''.join(entry.split('\\n')[1:]))\n",
    "ind = [0]\n",
    "for base in seqs[1]:\n",
    "    ind.append(seqs[0][ind[-1]:].index(base)+ind[-1]+1)\n",
    "ind.pop(0)\n",
    "print(*ind)"
   ]
  }
 ],
 "metadata": {
  "kernelspec": {
   "display_name": "Python 3",
   "language": "python",
   "name": "python3"
  },
  "language_info": {
   "codemirror_mode": {
    "name": "ipython",
    "version": 3
   },
   "file_extension": ".py",
   "mimetype": "text/x-python",
   "name": "python",
   "nbconvert_exporter": "python",
   "pygments_lexer": "ipython3",
   "version": "3.5.1"
  }
 },
 "nbformat": 4,
 "nbformat_minor": 0
}
