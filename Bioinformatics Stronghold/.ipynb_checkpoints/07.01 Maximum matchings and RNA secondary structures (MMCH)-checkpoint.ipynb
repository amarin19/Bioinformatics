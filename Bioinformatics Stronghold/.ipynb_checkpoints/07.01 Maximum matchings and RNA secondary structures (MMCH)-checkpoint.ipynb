{
 "cells": [
  {
   "cell_type": "code",
   "execution_count": 1,
   "metadata": {
    "collapsed": false
   },
   "outputs": [
    {
     "name": "stdout",
     "output_type": "stream",
     "text": [
      "38096229843899296494148723075563008336855040000000000\n"
     ]
    }
   ],
   "source": [
    "f = open('rosalind_mmch.txt', 'r').read().split('>')[1:]\n",
    "seqs = ''\n",
    "for i in range(len(f)):\n",
    "    f[i] = f[i].replace('\\n','')\n",
    "    for j in range(len(f[i])):\n",
    "        if f[i][j-1].isdigit() == True and f[i][j].isdigit() == False:\n",
    "            seqs += (f[i][j:])\n",
    "            break\n",
    "\n",
    "from math import factorial\n",
    "def problem(rna):\n",
    "    a, u, g, c = map(rna.count, [\"A\", \"U\", \"G\", \"C\"])\n",
    "    a = factorial(max(a, u)) // factorial(max(a, u) - min(a, u))\n",
    "    b = factorial(max(g, c)) // factorial(max(g, c) - min(g, c))\n",
    "    return a * b\n",
    "print(problem(seqs))"
   ]
  }
 ],
 "metadata": {
  "kernelspec": {
   "display_name": "Python 3",
   "language": "python",
   "name": "python3"
  },
  "language_info": {
   "codemirror_mode": {
    "name": "ipython",
    "version": 3
   },
   "file_extension": ".py",
   "mimetype": "text/x-python",
   "name": "python",
   "nbconvert_exporter": "python",
   "pygments_lexer": "ipython3",
   "version": "3.5.1"
  }
 },
 "nbformat": 4,
 "nbformat_minor": 0
}
