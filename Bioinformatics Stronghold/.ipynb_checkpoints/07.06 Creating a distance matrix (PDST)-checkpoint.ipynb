{
 "cells": [
  {
   "cell_type": "code",
   "execution_count": 1,
   "metadata": {},
   "outputs": [],
   "source": [
    "#Prepare the data:\n",
    "import numpy as np\n",
    "\n",
    "with open('rosalind_pdst.txt','r') as file:\n",
    "    a = file.readlines()\n",
    "    aux = ''.join(a)\n",
    "    aux = aux.split('>')[1:]\n",
    "    ids, data = [], []\n",
    "    for i in range(len(aux)):\n",
    "        aux2 = aux[i].replace('\\n','')\n",
    "        aux2 = aux2.split('Rosalind_')\n",
    "        ids.append('Rosalind_{}'.format(aux2[1][:4]))\n",
    "        data.append(aux2[1][4:])\n",
    "    matrix = np.zeros(shape=(len(ids),len(ids)))"
   ]
  },
  {
   "cell_type": "code",
   "execution_count": 2,
   "metadata": {},
   "outputs": [],
   "source": [
    "for i in range(len(ids)):\n",
    "    for j in range(i, len(ids)):\n",
    "        if i!=j:\n",
    "            h = sum(a!=b for a,b in zip(data[i], data[j]))\n",
    "            matrix[i,j] = h/len(data[i])\n",
    "            matrix[j,i] = matrix[i,j]"
   ]
  },
  {
   "cell_type": "code",
   "execution_count": 3,
   "metadata": {},
   "outputs": [],
   "source": [
    "#Store the data\n",
    "with open('prova_b.txt','w') as file:\n",
    "    for i in matrix:\n",
    "        a = ''\n",
    "        for j in i:\n",
    "              a += '{:.5f} '.format(j) \n",
    "        file.write(a)\n",
    "        file.write('\\n')"
   ]
  }
 ],
 "metadata": {
  "kernelspec": {
   "display_name": "Python 3",
   "language": "python",
   "name": "python3"
  },
  "language_info": {
   "codemirror_mode": {
    "name": "ipython",
    "version": 3
   },
   "file_extension": ".py",
   "mimetype": "text/x-python",
   "name": "python",
   "nbconvert_exporter": "python",
   "pygments_lexer": "ipython3",
   "version": "3.5.2"
  }
 },
 "nbformat": 4,
 "nbformat_minor": 2
}
