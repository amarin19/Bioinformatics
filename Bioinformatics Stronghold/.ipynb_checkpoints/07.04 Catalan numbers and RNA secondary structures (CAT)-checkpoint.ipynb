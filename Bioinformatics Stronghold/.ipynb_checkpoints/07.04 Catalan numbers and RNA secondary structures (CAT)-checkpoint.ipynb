{
 "cells": [
  {
   "cell_type": "code",
   "execution_count": 1,
   "metadata": {
    "collapsed": false
   },
   "outputs": [
    {
     "name": "stdout",
     "output_type": "stream",
     "text": [
      "720000\n"
     ]
    }
   ],
   "source": [
    "seq = ''\n",
    "f = open('rosalind_cat.txt','r').read().split('>')[1:]\n",
    "for entry in f:\n",
    "    seq += (''.join(entry.split('\\n')[1:]))\n",
    "\n",
    "c = {'':1, 'A':0, 'C':0, 'G':0, 'U':0, 'AA':0, 'AC':0, 'AG':0, 'AU':1, 'CA':0, 'CC':0, \n",
    "    'CG':1, 'CU':0, 'GA':0, 'GC':1, 'GG':0, 'GU':0, 'UA':1, 'UC':0, 'UG':0, 'UU':0}\n",
    "def catalan(s):\n",
    "    if s not in c:\n",
    "        if s.count('C') != s.count('G') or s.count('A') != s.count('U'):\n",
    "            c[s] = 0\n",
    "        else:\n",
    "            c[s] = sum([catalan(s[1:k]) * c[s[0]+s[k]] * catalan(s[k+1:]) for k in range(1, len(s), 2)])\n",
    "    return c[s]%1000000\n",
    "print(catalan(seq))"
   ]
  }
 ],
 "metadata": {
  "kernelspec": {
   "display_name": "Python 3",
   "language": "python",
   "name": "python3"
  },
  "language_info": {
   "codemirror_mode": {
    "name": "ipython",
    "version": 3
   },
   "file_extension": ".py",
   "mimetype": "text/x-python",
   "name": "python",
   "nbconvert_exporter": "python",
   "pygments_lexer": "ipython3",
   "version": "3.5.1"
  }
 },
 "nbformat": 4,
 "nbformat_minor": 0
}
