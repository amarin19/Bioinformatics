{
 "cells": [
  {
   "cell_type": "code",
   "execution_count": 1,
   "metadata": {
    "collapsed": false
   },
   "outputs": [
    {
     "name": "stdout",
     "output_type": "stream",
     "text": [
      "-71.768 -62.281 -58.169 -57.105 -54.244 -52.999 -52.615 -52.340 -52.782 -53.131 -54.219 -56.147 -60.729 -64.276 -71.992 -80.416\n"
     ]
    }
   ],
   "source": [
    "from math import log10\n",
    "f = open('rosalind_prob.txt', 'r').read().strip().split('\\n')\n",
    "S = f[0]\n",
    "probs = list(map(float, f[1].split(' ')))\n",
    "nums = []\n",
    "for probability in probs:\n",
    "    value = 1\n",
    "    for base in S:\n",
    "        if base == 'A' or base == 'T':\n",
    "            value = value*(1-probability)/2\n",
    "        else:\n",
    "            value = value*probability/2\n",
    "    nums.append('{0:.3f}'.format(log10(value)))\n",
    "print(*nums)"
   ]
  }
 ],
 "metadata": {
  "kernelspec": {
   "display_name": "Python 3",
   "language": "python",
   "name": "python3"
  },
  "language_info": {
   "codemirror_mode": {
    "name": "ipython",
    "version": 3
   },
   "file_extension": ".py",
   "mimetype": "text/x-python",
   "name": "python",
   "nbconvert_exporter": "python",
   "pygments_lexer": "ipython3",
   "version": "3.5.1"
  }
 },
 "nbformat": 4,
 "nbformat_minor": 0
}
