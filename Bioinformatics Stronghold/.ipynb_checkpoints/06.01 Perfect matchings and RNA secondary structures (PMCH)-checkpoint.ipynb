{
 "cells": [
  {
   "cell_type": "code",
   "execution_count": 1,
   "metadata": {
    "collapsed": false
   },
   "outputs": [
    {
     "name": "stdout",
     "output_type": "stream",
     "text": [
      "50903097535173096709816320000000\n"
     ]
    }
   ],
   "source": [
    "from math import factorial as fa\n",
    "f = open('rosalind_pmch.txt', 'r').read().split('>')[1:]\n",
    "seqs = ''\n",
    "for i in range(len(f)):\n",
    "    f[i] = f[i].replace('\\n','')\n",
    "    for j in range(len(f[i])):\n",
    "        if f[i][j-1].isdigit() == True and f[i][j].isdigit() == False:\n",
    "            seqs += (f[i][j:])\n",
    "            break\n",
    "print(fa(seqs.count('A'))*fa(seqs.count('C')))"
   ]
  }
 ],
 "metadata": {
  "kernelspec": {
   "display_name": "Python 3",
   "language": "python",
   "name": "python3"
  },
  "language_info": {
   "codemirror_mode": {
    "name": "ipython",
    "version": 3
   },
   "file_extension": ".py",
   "mimetype": "text/x-python",
   "name": "python",
   "nbconvert_exporter": "python",
   "pygments_lexer": "ipython3",
   "version": "3.5.1"
  }
 },
 "nbformat": 4,
 "nbformat_minor": 0
}
