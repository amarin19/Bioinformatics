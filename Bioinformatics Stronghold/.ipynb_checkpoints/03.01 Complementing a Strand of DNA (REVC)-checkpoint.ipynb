{
 "cells": [
  {
   "cell_type": "markdown",
   "metadata": {},
   "source": [
    "# Complementing a Strand of DNA\n",
    "\n",
    "## Problem 03.01\n",
    "\n",
    "In DNA strings, symbols 'A' and 'T' are complements of each other, as are 'C' and 'G'.\n",
    "\n",
    "The reverse complement of a DNA string $s$ is the string $s^c$ formed by reversing the symbols of $s$, then taking the complement of each symbol (e.g., the reverse complement of \"GTCA\" is \"TGAC\").\n",
    "\n",
    "* **Given**: A DNA string $s$ of length at most 1000 bp.\n",
    "* **Return**: The reverse complement $s^c$ of $s$."
   ]
  },
  {
   "cell_type": "code",
   "execution_count": 1,
   "metadata": {
    "collapsed": false
   },
   "outputs": [
    {
     "name": "stdout",
     "output_type": "stream",
     "text": [
      "AAATAGCTTTGAAACGCGGTTTAAGTTTTCACATATCCTTTACTAAGATCCTGGGGAAACCCCGGGTAAGCATTAGGGGCGTACTGACCGTTGGATCACGCCACAGCATATCGGCGTGAGGTTGTGCTTATTCGAACCCGTATATCATACAAGTCGCTCCAATCGTCCGCCTTGTGCAGATATCCTAAAGTTACTGTTCAGTAGTATTCGGGCATTCGTACTCATCTCTCACCGAATTCCTCTACTTCTCGGGCCGTTAGTCCTAGATCCGAAGTTTCGTGCGCCGAATCCCCTAGAACGTAGGCGGGTGTCACTGTGGAGCCACGTTCCGCAACATTTAACGCCACTGAAGCCAAAACCTCTTGGTAAGTTTCGGGCGTGGCTAACCCATATCCGACGTGTTCGCTCGAGTTTGCTCTTGAAGACTTACCAAAATTCCCCGCCAACGTCCTGTTCCTTACCGCATGACCGGTACGTCCCGCCACTCAACAACGCGAAGTAGGGCAATTGTTACATCAGGGCTCTGTCTTTCGCGGGAGTGGACAATCGAGGCGGTATCTGGAAACCGCTCCCCTGCGCAATCACGGGGCGCATACGTTGTAGCGGCAACGCAAGGGGCTCAATACAGTACTCTGCGGAAATGGCGGCGAGTATGCGGAGGTCCGATTACGTTTTAGACTACAGTTGAGCTGAGTTACCACTGATCTTAAGAGTTCCGGCCCAACCATCTGTTCGAAACCTCACGCCCTAGCCCCTTGTCTGCTAGCGTCCTCGGCTCTCCCAGTAATGGTGAGTGGTGCCATGGTCGCAGTGCGTGAAACGTAGCCTGTACGTTGCAAGGGGATTTAGCCAAGACCCCTCGTTTAAGATGTCATAACCACGATGGGGAGACCCACAGTCACAGCGTAGAGATATGTAAAAGTGTGCGCAACAGCAAACGTCACC\n"
     ]
    }
   ],
   "source": [
    "S = open('rosalind_revc.txt','r').readline().strip()\n",
    "S = S.replace('A','t').replace('T','a').replace('C','g').replace('G','c').upper()[::-1]\n",
    "print(S)"
   ]
  }
 ],
 "metadata": {
  "kernelspec": {
   "display_name": "Python 3",
   "language": "python",
   "name": "python3"
  },
  "language_info": {
   "codemirror_mode": {
    "name": "ipython",
    "version": 3
   },
   "file_extension": ".py",
   "mimetype": "text/x-python",
   "name": "python",
   "nbconvert_exporter": "python",
   "pygments_lexer": "ipython3",
   "version": "3.5.1"
  }
 },
 "nbformat": 4,
 "nbformat_minor": 0
}
