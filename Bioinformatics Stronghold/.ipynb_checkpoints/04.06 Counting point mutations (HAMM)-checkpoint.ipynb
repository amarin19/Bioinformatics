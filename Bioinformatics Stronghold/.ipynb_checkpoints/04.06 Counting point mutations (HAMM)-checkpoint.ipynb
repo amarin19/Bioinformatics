{
 "cells": [
  {
   "cell_type": "code",
   "execution_count": 1,
   "metadata": {
    "collapsed": false
   },
   "outputs": [
    {
     "name": "stdout",
     "output_type": "stream",
     "text": [
      "489\n"
     ]
    }
   ],
   "source": [
    "s, t = open('rosalind_hamm.txt', 'r').read().strip().split('\\n')\n",
    "Hamming_distance = 0\n",
    "for i in range(len(s)):\n",
    "    if s[i]!=t[i]:\n",
    "        Hamming_distance += 1\n",
    "print(Hamming_distance)"
   ]
  },
  {
   "cell_type": "code",
   "execution_count": 2,
   "metadata": {
    "collapsed": false
   },
   "outputs": [
    {
     "name": "stdout",
     "output_type": "stream",
     "text": [
      "489\n"
     ]
    }
   ],
   "source": [
    "#Pro version:\n",
    "s, t = open('rosalind_hamm.txt', 'r').read().strip().split('\\n')\n",
    "print(sum(a!=b for a,b in zip(s,t)))"
   ]
  }
 ],
 "metadata": {
  "kernelspec": {
   "display_name": "Python 3",
   "language": "python",
   "name": "python3"
  },
  "language_info": {
   "codemirror_mode": {
    "name": "ipython",
    "version": 3
   },
   "file_extension": ".py",
   "mimetype": "text/x-python",
   "name": "python",
   "nbconvert_exporter": "python",
   "pygments_lexer": "ipython3",
   "version": "3.5.1"
  }
 },
 "nbformat": 4,
 "nbformat_minor": 0
}
