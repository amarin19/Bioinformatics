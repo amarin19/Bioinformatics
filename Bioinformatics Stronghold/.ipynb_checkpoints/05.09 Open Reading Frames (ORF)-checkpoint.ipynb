{
 "cells": [
  {
   "cell_type": "code",
   "execution_count": 1,
   "metadata": {
    "collapsed": false
   },
   "outputs": [
    {
     "name": "stdout",
     "output_type": "stream",
     "text": [
      "MSNSNGLKKQTAIIPLGIYFCGVRTIDVE\n",
      "MYENKMPGSDRSPNALVRNYKLGST\n",
      "MPETRGEVEGLLTQRPSLLLRSSPI\n",
      "MNFDEDVKQQRPKKTDSNHTAWNILLRSKDD\n",
      "MHLVSS\n",
      "MKTKCQVLIGRLTLWSEIIS\n",
      "MFGVSDRY\n",
      "MSLWRQSNVV\n",
      "MIAVCFFRPLLFDIFIKIHLQIDVPQARNDLGVLAGD\n",
      "MDWCTS\n",
      "MSQMDWCTS\n",
      "MGVCAISPTPEWSLTILQRLTVKSAITMHLVSS\n",
      "MPGSDRSPNALVRNYKLGST\n",
      "MVVESA\n",
      "MAVPREPLLNINRPYSAEVYSKRYDCCLFF\n",
      "MYEAGNVAAQYCGLDL\n",
      "MIWGF\n",
      "MSQLNIAGWIFKRT\n",
      "MV\n",
      "MKMSNSNGLKKQTAIIPLGIYFCGVRTIDVE\n",
      "MLSNGSRGTAIKRTTSQPYPYCSSCIGLLQLLTITFV\n",
      "MVSNDSTKINGQICHHHASSLQLEPPDHFLLEARLFVNEF\n",
      "MGELLSKREGLCVSNPSTSPLVSGMFGVSDRY\n",
      "MRPEMSQLNIAGWIFKRT\n",
      "MREKVKEPMSLWRQSNVV\n",
      "MHGDGRFDR\n"
     ]
    }
   ],
   "source": [
    "def ORF(dna_seq, orf_set):\n",
    "    for i in range(len(dna_seq)-2):\n",
    "        CDS_of_mRNA = ''\n",
    "        prot = ''\n",
    "        if codon_table[dna_seq[i:i+3]] == 'M':\n",
    "            CDS_of_mRNA = dna_seq[i:]\n",
    "            for j in range(0,len(CDS_of_mRNA),3):\n",
    "                try:\n",
    "                    codon = codon_table[CDS_of_mRNA[j:j+3]]\n",
    "                    if codon != '*':\n",
    "                        prot += codon\n",
    "                    else:\n",
    "                        orf_set.add(prot)\n",
    "                        break\n",
    "                except:\n",
    "                    break\n",
    "    return(orf_set)\n",
    "\n",
    "#Create the dictionary:\n",
    "bases = ['T', 'C', 'A', 'G']\n",
    "aa = 'FFLLSSSSYY**CC*WLLLLPPPPHHQQRRRRIIIMTTTTNNKKSSRRVVVVAAAADDEEGGGG'\n",
    "codons = [a+b+c for a in bases for b in bases for c in bases]\n",
    "codon_table = dict(zip(codons, aa))\n",
    "\n",
    "#Transcript a RNA\n",
    "rDNA = open('rosalind_orf.txt', 'r').read().strip().split('\\n')[1:]\n",
    "DNA = ''\n",
    "for i in range(len(rDNA)):\n",
    "    DNA += rDNA[i]\n",
    "rcDNA= DNA.replace('T','a').replace('A','t').replace('C','g').replace('G','c').upper()[::-1]\n",
    "\n",
    "#Main code and print of the results\n",
    "set1 = set()\n",
    "set1 = ORF(DNA, set1)\n",
    "set1 = ORF(rcDNA, set1)\n",
    "for i in range(len(set1)):\n",
    "    print(set1.pop())"
   ]
  }
 ],
 "metadata": {
  "kernelspec": {
   "display_name": "Python 3",
   "language": "python",
   "name": "python3"
  },
  "language_info": {
   "codemirror_mode": {
    "name": "ipython",
    "version": 3
   },
   "file_extension": ".py",
   "mimetype": "text/x-python",
   "name": "python",
   "nbconvert_exporter": "python",
   "pygments_lexer": "ipython3",
   "version": "3.5.1"
  }
 },
 "nbformat": 4,
 "nbformat_minor": 0
}
