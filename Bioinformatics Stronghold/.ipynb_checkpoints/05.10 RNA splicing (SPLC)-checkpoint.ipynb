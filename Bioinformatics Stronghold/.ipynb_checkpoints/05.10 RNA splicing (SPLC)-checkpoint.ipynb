{
 "cells": [
  {
   "cell_type": "code",
   "execution_count": 1,
   "metadata": {
    "collapsed": false
   },
   "outputs": [
    {
     "name": "stdout",
     "output_type": "stream",
     "text": [
      "MVIRCVPHRPINVIVSVRSGQLVWSSGEQRSRNSPRTSTRPIHWYVDGPQVTVIQLPHSLIVEHFRSAKTYLKLPALPTVNPSESQKNITQVKANMRWVSKSSFGSRQPPVSSAGSVLACAPVRYRIGDRITTIRRPNSSDRLLAPMHYLALTDHSKGTPSVSCMIPVLAGSGKRLGEIPLFR\n"
     ]
    }
   ],
   "source": [
    "def ORF(dna_seq):\n",
    "    for i in range(len(dna_seq)-2):\n",
    "        CDS_of_mRNA = ''\n",
    "        prot = ''\n",
    "        if codon_table[dna_seq[i:i+3]] == 'M':\n",
    "            CDS_of_mRNA = dna_seq[i:]\n",
    "            for j in range(0,len(CDS_of_mRNA),3):\n",
    "                try:\n",
    "                    codon = codon_table[CDS_of_mRNA[j:j+3]]\n",
    "                    if codon != '*':\n",
    "                        prot += codon\n",
    "                    else:\n",
    "                        print(prot)\n",
    "                        break\n",
    "                except:\n",
    "                    break\n",
    "            break\n",
    "\n",
    "#Create the dictionary:\n",
    "bases = ['T', 'C', 'A', 'G']\n",
    "aa = 'FFLLSSSSYY**CC*WLLLLPPPPHHQQRRRRIIIMTTTTNNKKSSRRVVVVAAAADDEEGGGG'\n",
    "codons = [a+b+c for a in bases for b in bases for c in bases]\n",
    "codon_table = dict(zip(codons, aa))\n",
    "\n",
    "#REad the file and separe DNA from the introns:\n",
    "f = open('rosalind_splc.txt', 'r').read().strip().split('\\n')\n",
    "DNA = ''\n",
    "for i in range(1,len(f)):\n",
    "    if f[i][0] != '>':\n",
    "        DNA += f[i]\n",
    "    else:\n",
    "        start = i\n",
    "        break\n",
    "introns = f[start+1::2]\n",
    "\n",
    "#Get the mature DNA (it should be RNA but for simplicity, we don't use it):\n",
    "index = [0]\n",
    "for i in introns:\n",
    "    index.append(DNA.index(i))\n",
    "    index.append(index[-1]+len(i))\n",
    "index.append(len(DNA))\n",
    "index.sort()\n",
    "DNAbo = ''\n",
    "for i in range(int(len(index)/2)):\n",
    "    DNAbo += DNA[index[2*i]:index[2*i+1]]\n",
    "\n",
    "#Translate the protein:\n",
    "ORF(DNAbo)"
   ]
  }
 ],
 "metadata": {
  "kernelspec": {
   "display_name": "Python 3",
   "language": "python",
   "name": "python3"
  },
  "language_info": {
   "codemirror_mode": {
    "name": "ipython",
    "version": 3
   },
   "file_extension": ".py",
   "mimetype": "text/x-python",
   "name": "python",
   "nbconvert_exporter": "python",
   "pygments_lexer": "ipython3",
   "version": "3.5.1"
  }
 },
 "nbformat": 4,
 "nbformat_minor": 0
}
