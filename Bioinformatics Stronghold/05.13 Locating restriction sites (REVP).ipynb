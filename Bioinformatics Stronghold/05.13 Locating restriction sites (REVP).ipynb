{
 "cells": [
  {
   "cell_type": "code",
   "execution_count": 1,
   "metadata": {
    "collapsed": false
   },
   "outputs": [],
   "source": [
    "f = open('rosalind_revp.txt', 'r').read().split('>')[1:]\n",
    "seqs = ''\n",
    "for i in range(len(f)):\n",
    "    f[i] = f[i].replace('\\n','')\n",
    "    for j in range(len(f[i])):\n",
    "        if f[i][j-1].isdigit() == True and f[i][j].isdigit() == False:\n",
    "            seqs += (f[i][j:])\n",
    "            break"
   ]
  },
  {
   "cell_type": "code",
   "execution_count": 2,
   "metadata": {
    "collapsed": false
   },
   "outputs": [
    {
     "name": "stdout",
     "output_type": "stream",
     "text": [
      "1 4\n",
      "5 6\n",
      "6 4\n",
      "29 6\n",
      "30 4\n",
      "53 4\n",
      "58 4\n",
      "60 8\n",
      "61 6\n",
      "62 4\n",
      "87 6\n",
      "88 4\n",
      "98 4\n",
      "100 4\n",
      "112 4\n",
      "122 6\n",
      "123 4\n",
      "144 4\n",
      "156 4\n",
      "159 6\n",
      "160 4\n",
      "183 4\n",
      "201 4\n",
      "237 8\n",
      "238 6\n",
      "239 4\n",
      "245 4\n",
      "248 6\n",
      "249 4\n",
      "257 4\n",
      "318 6\n",
      "319 4\n",
      "341 4\n",
      "345 4\n",
      "347 6\n",
      "348 4\n",
      "358 4\n",
      "373 4\n",
      "390 4\n",
      "410 12\n",
      "411 10\n",
      "412 8\n",
      "413 6\n",
      "414 4\n",
      "420 6\n",
      "421 4\n",
      "448 4\n",
      "475 4\n",
      "487 4\n",
      "502 6\n",
      "503 4\n",
      "534 4\n",
      "572 6\n",
      "573 4\n",
      "581 6\n",
      "582 4\n",
      "584 8\n",
      "585 6\n",
      "586 4\n",
      "599 4\n",
      "636 4\n",
      "723 4\n",
      "733 4\n",
      "741 4\n",
      "752 4\n",
      "771 4\n",
      "771 6\n",
      "772 4\n",
      "773 4\n",
      "809 4\n",
      "827 4\n"
     ]
    }
   ],
   "source": [
    "A = 12\n",
    "for start in range(len(seqs)-3):\n",
    "    if start >= len(seqs)-11:\n",
    "        A -= 1\n",
    "    for ending in range(3,A):\n",
    "        part = seqs[start:start+ending+1]\n",
    "        S = part.replace('A','t').replace('T','a').replace('C','g').replace('G','c').upper()[::-1]\n",
    "        if part == S:\n",
    "            print(start+1, len(part))"
   ]
  }
 ],
 "metadata": {
  "kernelspec": {
   "display_name": "Python 3",
   "language": "python",
   "name": "python3"
  },
  "language_info": {
   "codemirror_mode": {
    "name": "ipython",
    "version": 3
   },
   "file_extension": ".py",
   "mimetype": "text/x-python",
   "name": "python",
   "nbconvert_exporter": "python",
   "pygments_lexer": "ipython3",
   "version": "3.5.1"
  }
 },
 "nbformat": 4,
 "nbformat_minor": 0
}
