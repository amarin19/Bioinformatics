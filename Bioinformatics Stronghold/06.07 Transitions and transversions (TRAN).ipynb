{
 "cells": [
  {
   "cell_type": "code",
   "execution_count": 1,
   "metadata": {
    "collapsed": false
   },
   "outputs": [
    {
     "name": "stdout",
     "output_type": "stream",
     "text": [
      "2.3333333333333335\n"
     ]
    }
   ],
   "source": [
    "seqs = []\n",
    "f = open('rosalind_tran.txt','r').read().split('>')[1:]\n",
    "for entry in f:\n",
    "    seqs.append(''.join(entry.split('\\n')[1:]))\n",
    "S1, S2 = seqs[0], seqs[1]\n",
    "transitions, transversions = 0, 0\n",
    "for ind in range(len(S1)):\n",
    "    if S1[ind] == S2[ind]:\n",
    "        continue\n",
    "    elif ((S1[ind] == 'C' and S2[ind] == 'T') or \n",
    "          (S1[ind] == 'A' and S2[ind] == 'G') or \n",
    "          (S1[ind] == 'T' and S2[ind] == 'C') or \n",
    "          (S1[ind] == 'G' and S2[ind] == 'A')):\n",
    "        transitions += 1\n",
    "    else:\n",
    "        transversions +=1\n",
    "print(transitions/transversions)"
   ]
  }
 ],
 "metadata": {
  "kernelspec": {
   "display_name": "Python 3",
   "language": "python",
   "name": "python3"
  },
  "language_info": {
   "codemirror_mode": {
    "name": "ipython",
    "version": 3
   },
   "file_extension": ".py",
   "mimetype": "text/x-python",
   "name": "python",
   "nbconvert_exporter": "python",
   "pygments_lexer": "ipython3",
   "version": "3.5.1"
  }
 },
 "nbformat": 4,
 "nbformat_minor": 0
}
