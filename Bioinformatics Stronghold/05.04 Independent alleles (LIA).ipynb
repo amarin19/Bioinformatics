{
 "cells": [
  {
   "cell_type": "code",
   "execution_count": 1,
   "metadata": {
    "collapsed": false
   },
   "outputs": [
    {
     "name": "stdout",
     "output_type": "stream",
     "text": [
      "0.406\n"
     ]
    }
   ],
   "source": [
    "#Given that the function is a Binomial distribution and we need its cumulative density function\n",
    "#it is HIGHLY recommended to just use it.\n",
    "from scipy import stats\n",
    "\n",
    "k, N = list(map(int,open('rosalind_lia.txt', 'r').read().strip().split(' ')))\n",
    "p=0.25 #Success probability\n",
    "print(round(1-stats.binom.cdf(N-1, 2**k, p), 3))"
   ]
  }
 ],
 "metadata": {
  "kernelspec": {
   "display_name": "Python 3",
   "language": "python",
   "name": "python3"
  },
  "language_info": {
   "codemirror_mode": {
    "name": "ipython",
    "version": 3
   },
   "file_extension": ".py",
   "mimetype": "text/x-python",
   "name": "python",
   "nbconvert_exporter": "python",
   "pygments_lexer": "ipython3",
   "version": "3.5.1"
  }
 },
 "nbformat": 4,
 "nbformat_minor": 0
}
