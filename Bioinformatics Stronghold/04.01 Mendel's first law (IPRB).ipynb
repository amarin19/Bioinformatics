{
 "cells": [
  {
   "cell_type": "markdown",
   "metadata": {},
   "source": [
    "En comptes de calcular la probabilitat de tenir al menys un al·lel dominant, $H$, és més senzill calcular la probabilitat complementaria: la probabilitat de no tenir-ne cap ni un: $1-P(hh)$. Per això, es pot fer una taula de primers pares ($P_1$), segons pares ($P_2$) i probabilitat que resulta $P(hh)$:\n",
    "\n",
    " * $P_1 = K$, $P_2=P_2$ = $P(hh)=0\\qquad \\forall\\ P_2$.\n",
    " * $P_1 = M$, $P_2=K$ = $P(hh)=0$.\n",
    " * $P_1 = M$, $P_2=M$ = $P(hh)=\\frac{M}{T}\\cdot\\frac{M-1}{T-1}\\cdot\\frac{1}{4}$ donat que només tenim una combinació $hh$.\n",
    " * $P_1 = M$, $P_2=N$ = $P(hh)=\\frac{M}{T}\\cdot\\frac{N}{T-1}\\cdot\\frac{1}{2}$ donat que només tenim dues combinacions $hh$.\n",
    " * $P_1 = N$, $P_2=K$ = $P(hh)=0$.\n",
    " * $P_1 = N$, $P_2=M$ = $P(hh)=\\frac{N}{T}\\cdot\\frac{M}{T-1}\\cdot\\frac{1}{2}$ donat que només tenim dues combinacions $hh$.\n",
    " * $P_1 = N$, $P_2=N$ = $P(hh)=\\frac{N}{T}\\cdot\\frac{N-1}{T-1}$.\n",
    " \n",
    "Per tant, la probabilitat de tenir al menys un al·lel dominant serà:\n",
    "$$P(Hh\\lor HH) = 1-P(hh) = 1 - \\left[\\frac{M}{T}\\left(\\frac{1}{4}\\frac{M-1}{T-1}+\\frac{1}{2}\\frac{N}{T-1}\\right)+\\frac{N}{T}\\left(\\frac{1}{2}\\frac{M}{T-1}+\\frac{N-1}{T-1}\\right)\\right]$$\n",
    "$$P(Hh\\lor HH) = 1-\\left[\\frac{M}{T}\\left(\\frac{M+2N-1}{4(T-1)}\\right)+\\frac{N}{T}\\left(\\frac{M+2N-2}{2(T-1)}\\right)\\right]$$"
   ]
  },
  {
   "cell_type": "code",
   "execution_count": 1,
   "metadata": {
    "collapsed": false
   },
   "outputs": [
    {
     "name": "stdout",
     "output_type": "stream",
     "text": [
      "0.7134780642243329\n"
     ]
    }
   ],
   "source": [
    "k, m, n = map(int, open('rosalind_iprb.txt','r').readline().strip().split(' '))\n",
    "t = k+m+n\n",
    "print(1-(m/t*((m+2*n-1)/(4*(t-1)))+n/t*((m+2*n-2)/(2*(t-1)))))"
   ]
  }
 ],
 "metadata": {
  "kernelspec": {
   "display_name": "Python 3",
   "language": "python",
   "name": "python3"
  },
  "language_info": {
   "codemirror_mode": {
    "name": "ipython",
    "version": 3
   },
   "file_extension": ".py",
   "mimetype": "text/x-python",
   "name": "python",
   "nbconvert_exporter": "python",
   "pygments_lexer": "ipython3",
   "version": "3.5.1"
  }
 },
 "nbformat": 4,
 "nbformat_minor": 0
}
