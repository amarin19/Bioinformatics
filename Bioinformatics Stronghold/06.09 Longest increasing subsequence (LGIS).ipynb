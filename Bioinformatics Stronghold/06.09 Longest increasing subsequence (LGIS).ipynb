{
 "cells": [
  {
   "cell_type": "code",
   "execution_count": 1,
   "metadata": {
    "collapsed": false
   },
   "outputs": [
    {
     "name": "stdout",
     "output_type": "stream",
     "text": [
      "19 48 54 115 170 174 207 337 368 400 408 474 577 620 624 669 684 685 692 792 848 882 923 989 1223 1227 1265 1349 1379 1422 1519 1581 1611 1708 1768 1861 2141 2313 2322 2342 2458 2550 2602 2620 2630 2663 2672 2703 2737 2757 2796 2830 2842 2867 2868 2888 2968 3027 3120 3129 3142 3182 3222 3257 3265 3324 3330 3411 3444 3490 3543 3673 3733 3745 3885 3893 3933 3966 3983 4054 4106 4119 4140 4145 4166 4202 4222 4308 4371 4429 4524 4544 4675 4690 4702 4707 4766 5029 5033 5037 5043 5066 5114 5161 5233 5240 5311 5363 5398 5483 5497 5539 5710 5711 5898 5949 6044 6092 6121 6268 6315 6364 6655 6670 6692 6693 6716 6737 6771 6887 7015 7016 7018 7029 7062 7087 7122 7147 7162 7169 7171 7178 7286 7288 7289 7317 7374 7445 7504 7526 7541 7678 7695 7732 7779 7879 8059 8248 8319 8328 8340 8400 8451 8597 8641 8648 8668 8809 8868 8934 8947 8985 9045 9105 9116 9147 9208 9209 9221 9235 9259 9275 9336 9401 9474 9520 9580 9708 9732\n",
      "9967 9961 9946 9915 9911 9869 9796 9780 9736 9680 9660 9597 9561 9521 9495 9446 9334 9299 9252 9134 9064 9054 9024 9004 8974 8966 8957 8920 8883 8821 8797 8766 8680 8642 8638 8590 8465 8425 8422 8321 8200 8011 7999 7740 7674 7658 7656 7620 7577 7559 7490 7329 7255 7144 6952 6906 6871 6856 6769 6746 6738 6671 6607 6587 6580 6539 6530 6483 6458 6425 6395 6382 6353 6271 6270 6266 6238 6183 6157 6042 5971 5947 5926 5869 5811 5797 5648 5589 5566 5551 5437 5411 5353 5329 5311 5290 5283 5254 5179 5158 4992 4974 4913 4912 4871 4825 4772 4705 4672 4653 4611 4572 4570 4497 4373 4336 4235 4102 4061 3991 3840 3747 3724 3709 3650 3564 3563 3239 3198 3148 2977 2950 2900 2898 2889 2836 2799 2797 2710 2670 2641 2607 2563 2446 2324 2255 2228 2066 2039 2023 1994 1991 1876 1749 1742 1686 1543 1507 1476 1333 1330 1324 1256 1157 1152 1074 1056 924 910 823 816 807 798 618 597 540 507 495 416 409 315 301 277 269 243 233 231 187 160\n"
     ]
    }
   ],
   "source": [
    "f = open('rosalind_lgis.txt','r').read().strip().split('\\n')\n",
    "n, perm = int(f[0]), list(map(int, f[1].split(' ')))\n",
    "\n",
    "def LIS(sequence):\n",
    "    # Time complexity is O(n^2)    \n",
    "    lis_len = [1] * len(sequence)\n",
    "    for i in range(len(sequence)):\n",
    "        for j in range(i+1, len(sequence)):\n",
    "            if sequence[i] < sequence[j]:\n",
    "                lis_len[j] = max(lis_len[j], lis_len[i] + 1)\n",
    "    rv = []\n",
    "    curr_len = max(lis_len)\n",
    "    for i in range(len(sequence) - 1, -1, -1):\n",
    "        if curr_len == lis_len[i]:\n",
    "            rv.append(sequence[i])\n",
    "            curr_len -= 1\n",
    "    return rv[::-1]\n",
    "def LOS(sequence):\n",
    "    # Time complexity is O(n^2)    \n",
    "    lis_len = [1] * len(sequence)\n",
    "    for i in range(len(sequence)):\n",
    "        for j in range(i+1, len(sequence)):\n",
    "            if sequence[i] > sequence[j]:\n",
    "                lis_len[j] = max(lis_len[j], lis_len[i] + 1)\n",
    "    rv = []\n",
    "    curr_len = max(lis_len)\n",
    "    for i in range(len(sequence) - 1, -1, -1):\n",
    "        if curr_len == lis_len[i]:\n",
    "            rv.append(sequence[i])\n",
    "            curr_len -= 1\n",
    "    return rv[::-1]\n",
    "print(*LIS(perm))\n",
    "print(*LOS(perm))"
   ]
  }
 ],
 "metadata": {
  "kernelspec": {
   "display_name": "Python 3",
   "language": "python",
   "name": "python3"
  },
  "language_info": {
   "codemirror_mode": {
    "name": "ipython",
    "version": 3
   },
   "file_extension": ".py",
   "mimetype": "text/x-python",
   "name": "python",
   "nbconvert_exporter": "python",
   "pygments_lexer": "ipython3",
   "version": "3.5.1"
  }
 },
 "nbformat": 4,
 "nbformat_minor": 0
}
