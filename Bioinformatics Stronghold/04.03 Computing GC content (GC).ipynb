{
 "cells": [
  {
   "cell_type": "code",
   "execution_count": 1,
   "metadata": {
    "collapsed": false
   },
   "outputs": [
    {
     "name": "stdout",
     "output_type": "stream",
     "text": [
      "Rosalind_3779\n",
      "51.842751842751845\n"
     ]
    }
   ],
   "source": [
    "f = open('rosalind_gc.txt', 'r').read().split('>')[1:]\n",
    "data = {}\n",
    "for i in range(len(f)):\n",
    "    f[i] = f[i].replace('\\n','')\n",
    "    for j in range(len(f[i])):\n",
    "        if f[i][j-1].isdigit() == True and f[i][j].isdigit() == False:\n",
    "            data[f[i][0:j]] = f[i][j:]\n",
    "            break\n",
    "\n",
    "name, CG = '', 0\n",
    "for i in data:\n",
    "    content = (data[i].count('C')+data[i].count('G'))/len(data[i])*100\n",
    "    if content >= CG:\n",
    "        CG = content\n",
    "        name = i\n",
    "print('{}\\n{}'.format(name,CG))"
   ]
  }
 ],
 "metadata": {
  "kernelspec": {
   "display_name": "Python 3",
   "language": "python",
   "name": "python3"
  },
  "language_info": {
   "codemirror_mode": {
    "name": "ipython",
    "version": 3
   },
   "file_extension": ".py",
   "mimetype": "text/x-python",
   "name": "python",
   "nbconvert_exporter": "python",
   "pygments_lexer": "ipython3",
   "version": "3.5.1"
  }
 },
 "nbformat": 4,
 "nbformat_minor": 0
}
