{
 "cells": [
  {
   "cell_type": "code",
   "execution_count": 17,
   "metadata": {
    "collapsed": false
   },
   "outputs": [],
   "source": [
    "def count_layers(vect):\n",
    "    layers = 0; elements = 0\n",
    "    while True:\n",
    "        layers += 1\n",
    "        elements += 2.**layers\n",
    "        if(elements>=len(vect)): break\n",
    "    return layers\n",
    "\n",
    "def elements_capacity(layer):\n",
    "    elements = 0\n",
    "    for i in range(layer): elements += 2.**i\n",
    "    return int(elements)\n",
    "\n",
    "vect = [4,1,8,12,7,5,17,3,9,5,2,24,21,13,22]; changes1 = 0\n",
    "layer = count_layers(vect) -1 ; #penultimate layer\n",
    "elements = elements_capacity(layer)\n",
    "\n",
    "while True:\n",
    "    changes2 = changes1\n",
    "    for i in range(elements): \n",
    "        if(vect[i]>vect[2*i]): \n",
    "            vect[i],vect[2*i] = vect[2*i],vect[i]\n",
    "            changes2+=1\n",
    "        if(vect[i]>vect[2*i+1]):\n",
    "            vect[i],vect[2*i+1] = vect[2*i+1],vect[i]\n",
    "            changes2+=1\n",
    "    if changes2==changes1: break\n",
    "    \n",
    "    \n",
    "    "
   ]
  },
  {
   "cell_type": "code",
   "execution_count": 18,
   "metadata": {
    "collapsed": false
   },
   "outputs": [
    {
     "data": {
      "text/plain": [
       "[1, 2, 3, 4, 5, 5, 13, 12, 9, 8, 7, 24, 21, 17, 22]"
      ]
     },
     "execution_count": 18,
     "metadata": {},
     "output_type": "execute_result"
    }
   ],
   "source": [
    "vect"
   ]
  },
  {
   "cell_type": "code",
   "execution_count": null,
   "metadata": {
    "collapsed": true
   },
   "outputs": [],
   "source": []
  }
 ],
 "metadata": {
  "kernelspec": {
   "display_name": "Python 3",
   "language": "python",
   "name": "python3"
  },
  "language_info": {
   "codemirror_mode": {
    "name": "ipython",
    "version": 3
   },
   "file_extension": ".py",
   "mimetype": "text/x-python",
   "name": "python",
   "nbconvert_exporter": "python",
   "pygments_lexer": "ipython3",
   "version": "3.5.1"
  }
 },
 "nbformat": 4,
 "nbformat_minor": 0
}
