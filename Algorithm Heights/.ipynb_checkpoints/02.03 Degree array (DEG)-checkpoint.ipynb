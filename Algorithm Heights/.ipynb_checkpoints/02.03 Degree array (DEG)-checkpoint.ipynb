{
 "cells": [
  {
   "cell_type": "markdown",
   "metadata": {},
   "source": [
    "# Why graphs?\n",
    "A wide range of problems can be expressed with clarity and precision in the concise pictorial language of graphs. For instance, consider the task of coloring a political map. What is the minimum number of colors needed, with the obvious restriction that neighboring countries should have different colors? One of the difficulties in attacking this problem is that the map itself, even a stripped-down version like:\n",
    "\n",
    "![Latinoamerica](http://rosalind.info/media/problems/deg/map.jpg \"Figure 1\")\n",
    "\n",
    "is usually cluttered with irrelevant information: intricate boundaries, border posts where three or more countries meet, open seas, and meandering rivers. Such distractions are absent from the mathematical object of Figure 2, a graph with one vertex for each country (1 is Brazil, 11 is Argentina) and edges between neighbors. It contains exactly the information needed for coloring, and nothing more. The precise goal is now to assign a color to each vertex so that no edge has endpoints of the same color.\n",
    "\n",
    "![](http://rosalind.info/media/problems/deg/mapgraph.png \"Figure 2\")\n",
    "\n",
    "Graph coloring is not the exclusive domain of map designers. Suppose a university needs to schedule examinations for all its classes and wants to use the fewest time slots possible. The only constraint is that two exams cannot be scheduled concurrently if some student will be taking both of them. To express this problem as a graph, use one vertex for each exam and put an edge between two vertices if there is a conflict, that is, if there is somebody taking both endpoint exams. Think of each time slot as having its own color. Then, assigning time slots is exactly the same as coloring this graph!\n",
    "\n",
    "Formally, a graph is specified by a set of vertices (also called nodes) $V$ and by edges $E$ between select pairs of vertices. In the map example, V={1,2,3,…,13} and E includes, among many other edges, {1,2}, {9,11}, and {7,13}. Here an edge between x and y specifically means “x shares a border with y.” This is a symmetric relation—it implies also that y shares a border with x—and we denote it using set notation, e={x,y}. Such edges are undirected and are part of an undirected graph.\n",
    "\n",
    "Sometimes graphs depict relations that do not have this reciprocity, in which case it is necessary to use edges with directions on them. There can be directed edges e from x to y (written e=(x,y)), or from y to x (written (y,x)), or both. A particularly enormous example of a directed graph is the graph of all links in the World Wide Web. It has a vertex for each site on the Internet, and a directed edge (u,v) whenever site u has a link to site v: in total, billions of nodes and edges! Understanding even the most basic connectivity properties of the Web is of great economic and social interest. Although the size of this problem is daunting, we will soon see that a lot of valuable information about the structure of a graph can, happily, be determined in just linear time.\n",
    "\n",
    "Source: Algorithms by Dasgupta, Papadimitriou, Vazirani. McGraw-Hill. 2006.\n",
    "\n",
    "## Problem 02.03\n",
    "\n",
    "![Figure 3](http://rosalind.info/media/problems/deg/dataset.tikz.png \"The graph from the example dataset.\")\n",
    "In an undirected graph, the degree $d(u)$ of a vertex $u$ is the number of neighbors $u$ has, or equivalently, the number of edges incident upon it.\n",
    "\n",
    "* **Given**: A simple graph with $n\\leq10^3$ vertices in the edge list format.\n",
    "* **Return**: An array $D[1\\dots n]$ where $D[i]$ is the degree of vertex $i$."
   ]
  },
  {
   "cell_type": "code",
   "execution_count": 1,
   "metadata": {
    "collapsed": false
   },
   "outputs": [
    {
     "name": "stdout",
     "output_type": "stream",
     "text": [
      "23 18 9 14 19 17 20 20 18 16 24 22 14 16 14 18 17 23 27 22 26 20 23 14 18 25 18 25 18 27 17 19 22 18 18 27 13 27 17 25 19 23 19 25 15 33 21 16 17 15 15 20 24 26 16 16 18 22 24 22 17 18 21 11 21 22 23 21 17 22 19 14 17 17 22 18 26 19 31 15 17 17 14 18 16 16 20 28 19 26 11 18 18 19 17 24 24 17 26 21 19 14 26 26 23 26 18 16 19 24 26 15 19 21 25 19 19 11 18 24 22 19 30 20 25 14 25 15 22 23 20 13 19 18 19 21 22 15 20 19 21 18 21 28 20 22 18 19 28 14 23 14 24 22 19 19 17 22 28 19 14 19 22 18 24 17 25 18 18 18 17 23 20 13 17 22 20 19 15 10 23 19 25 15 17 17 19 14 21 28 27 23 23 16 20 20 22 17 15 22 13 19 18 22 23 19 21 16 19 21 20 19 32 20 13 19 19 24 20 17 25 18 19 19 22 18 13 14 20 24 16 18 20 17 12 20 19 25 18 15 26 18 16 21 22 22 15 24 21 22 17 17 24 13 16 23 23 26 17 24 22 21 24 24 23 23 16 22 14 22 15 26 22 22 24 17 21 20 29 30 22 23 22 26 27 17 20 22 24 17 14 19 16 17 19 20 20 16 20 19 25 23 17 20 25 21 27 20 16 18 21 18 26 21 16 21 28 19 19 18 18 18 24 21 16 27 21 11 23 16 25 19 17 23 13 15 25 24 18 22 18 21 23 23 19 17 21 27 25 15 19 20 14 21 20 19 22 18 19 26 20 24 19 19 17 12 19 25 22 22 19 19 25 17 22 17 24 22 16 25 20 16 14 15 19 20 22 14 23 21 19 15 25 16 25 18 19 17 17 24 16 28 27 25 21 21 16 26 10 16 14 17 27 20 22 18 17 14 27 20 18 26 20 19 16 27 24 20 25 21 26 26 19 13 22 21 24 18 14 18 18 21 25 24 16 22 14 21 19 23 14 22 22 11 11 19 30 17 21 22 17 21 20 19 23 21 17 16 21 14 18 20 27 21 23 23 21 15 19 23 25 24 16 19 26 17 16 25 21 19 19 21 19 21 25 12 12 14 20 29 24 29 14 24 19 18 16 16 21 18 20 15 18 19 9 23 19 18 11 21 29 23 19 19 19 16 11 17 9 20 18 17 15 14 29 18 25 14 16 29 19 18 16 18 24 17 20 23 18 23 32 30 20 21 23 19 22 13 16 20 19 26 19 20 25 17 16 24 20 12 15 21 22 23 27 20 18 25 17 21 18 21 14 20 21 23 19 23 22 23 18 19 15 27 14 18 18 25 17 16 17 20 19 20 20 22 17 13 21 14 22 16 13 26 18 27 14 18 15 15 16 21 14 20 21 26 9 18 24 22 25 19 16 26 18 16 30 20 13 17 18 17 24 22 22 25 18 18 25 14 14 11 24 19 19 13 17 16 19 28 26 10 25 21 16 22 19 24 16 21 17 18 29 16 14 12 22 22 15 13 15 31 20 26 16 15 24 20 21 19 17 24 17 16 25 16 22 21 28 17 22 19 16 19 17 21 15 17 22 27 23 17 25 24 24 24 25 27 18 16 17 14 16 18 22 20 12 25 22 19 23 15 17 14 26 23 21 14 17 22 20 17 22 12 18 26 20 29 24 30 23 22 16 27 15 20 22 26 15 22 21 22 25 17 15 18 19 18 19 22 18 17 19 18 21 22 19 18 28 20 25 19 13 21 25 22 16 18 23 21 26 21 18 19 15 24 19 14 15 19 18 24 25 15 15 18 13 25 21 19 21 19 16 30 19 21 17 17 16 23 18 16 16 29 22 25 24 16 25 20 12 18 17 15 21 20 15 17 15 22 20 22 14 18 17 17 17 23 25 24 15 22 22 16 14 18 16 20 27 21 30 17 19 16 20 11 26 16 18 20 14 14 21 18 17 32 18 19 16 16 17 20 24 18 13 19 26 28 16 12 15 18 22 19 22 17 25 13 18 16 23 20 14 18 11 19 16 15 17 23 23 20 16 28 20 8 19 16 14 16 17 23 15 13 21 17 16 18 15 19 30 14 22 16 14 18 24 12 13 19 22 20 19 24 21 16 24 24 12 24 22 22 25 19 35 18 19 18 15 12 15 30 18 31 22 18 26 21 20 20 17 19 19 31 16 15 25 20 14 21 16 19 17 14 19 23 22 20 19 23 15 11 22 18 25 19 22 25 21 28 "
     ]
    }
   ],
   "source": [
    "B = list(map(int, open('rosalind_deg.txt', 'r').read().strip().replace('\\n', ' ').split(' ')))\n",
    "print(*[B[2:].count(i) for i in range(1, B[0]+1)], end = ' ')"
   ]
  }
 ],
 "metadata": {
  "kernelspec": {
   "display_name": "Python 3",
   "language": "python",
   "name": "python3"
  },
  "language_info": {
   "codemirror_mode": {
    "name": "ipython",
    "version": 3
   },
   "file_extension": ".py",
   "mimetype": "text/x-python",
   "name": "python",
   "nbconvert_exporter": "python",
   "pygments_lexer": "ipython3",
   "version": "3.5.1"
  }
 },
 "nbformat": 4,
 "nbformat_minor": 0
}
