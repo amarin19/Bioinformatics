{
 "cells": [
  {
   "cell_type": "markdown",
   "metadata": {},
   "source": [
    "## Problem 04.02\n",
    "\n",
    " * **Given**: A positive integer $k\\leq20$, a positive integer $n\\leq10^4$, and $k$ arrays of size $n$ containing integers from $−10^5$ to $10^5$.\n",
    " * **Return**: For each array $A[1\\dots n]$, output two different indices $1\\leq p<q\\leq n$ such that $A[p]=−A[q]$ if exist, and $-1$ otherwise."
   ]
  },
  {
   "cell_type": "code",
   "execution_count": 1,
   "metadata": {
    "collapsed": false
   },
   "outputs": [
    {
     "name": "stdout",
     "output_type": "stream",
     "text": [
      "-1\n",
      "117 285\n",
      "301 314\n",
      "111 129\n",
      "168 245\n",
      "38 56\n",
      "113 119\n",
      "151 245\n",
      "1009 6360\n",
      "2520 5766\n",
      "2705 6529\n",
      "13 117\n",
      "1782 9649\n",
      "1706 2127\n",
      "1614 4790\n"
     ]
    }
   ],
   "source": [
    "f = open('rosalind_2sum.txt', 'r')\n",
    "k, n = map(int, f.readline().strip().split(' '))\n",
    "\n",
    "def sum2(a, n):\n",
    "    x = {}\n",
    "    for i in range(n):\n",
    "        if -a[i] in x: \n",
    "            return (x[-a[i]], i+1)\n",
    "        x[a[i]] = i+1\n",
    "    return [-1]\n",
    "\n",
    "for i in range(k): \n",
    "    print(*sum2(list(map(int, f.readline().split())), n))"
   ]
  }
 ],
 "metadata": {
  "kernelspec": {
   "display_name": "Python 3",
   "language": "python",
   "name": "python3"
  },
  "language_info": {
   "codemirror_mode": {
    "name": "ipython",
    "version": 3
   },
   "file_extension": ".py",
   "mimetype": "text/x-python",
   "name": "python",
   "nbconvert_exporter": "python",
   "pygments_lexer": "ipython3",
   "version": "3.5.1"
  }
 },
 "nbformat": 4,
 "nbformat_minor": 0
}
