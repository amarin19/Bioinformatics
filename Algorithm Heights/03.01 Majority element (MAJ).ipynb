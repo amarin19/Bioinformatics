{
 "cells": [
  {
   "cell_type": "markdown",
   "metadata": {},
   "source": [
    "## Problem 03.01\n",
    "An array $A[1\\dots n]$ is said to have a majority element if more than half of its entries are the same.\n",
    "\n",
    "* **Given**: A positive integer $k\\leq20$, a positive integer $n\\leq10^4$, and $k$ arrays of size $n$ containing positive integers not exceeding $10^5$.\n",
    "* **Return**: For each array, output an element of this array occurring strictly more than $n/2$ times if such element exists, and $-1$ otherwise."
   ]
  },
  {
   "cell_type": "code",
   "execution_count": 1,
   "metadata": {},
   "outputs": [
    {
     "name": "stdout",
     "output_type": "stream",
     "text": [
      "-1 -1 -1 9230 -1 -1 2529 5896 1725 -1 4429 9594 7870 -1 6235 -1 8310 -1 4950 "
     ]
    }
   ],
   "source": [
    "A = list(i.split(' ') for i in open('rosalind_maj.txt', 'r').read().strip().split('\\n')[1:])\n",
    "\n",
    "def majority_element(a):\n",
    "    # Initialize the candidate element and count.\n",
    "    candidate, count = a[0], 0\n",
    "    # Run through the list, updating the count and changing candidates as necessary.\n",
    "    for element in a:\n",
    "        count += [-1, 1][element == candidate]\n",
    "        if count == 0:\n",
    "            candidate, count = element, 1\n",
    "\n",
    "    # Check if the candidate is indeed the majority element, returning the appropriate result.\n",
    "    return [-1, candidate][a.count(candidate) > len(a)/2]\n",
    "\n",
    "for i in A:\n",
    "    print(majority_element(list(map(int, i))), end = ' ')"
   ]
  }
 ],
 "metadata": {
  "kernelspec": {
   "display_name": "Python 3",
   "language": "python",
   "name": "python3"
  },
  "language_info": {
   "codemirror_mode": {
    "name": "ipython",
    "version": 3
   },
   "file_extension": ".py",
   "mimetype": "text/x-python",
   "name": "python",
   "nbconvert_exporter": "python",
   "pygments_lexer": "ipython3",
   "version": "3.6.7"
  },
  "latex_envs": {
   "LaTeX_envs_menu_present": true,
   "autoclose": false,
   "autocomplete": true,
   "bibliofile": "biblio.bib",
   "cite_by": "apalike",
   "current_citInitial": 1,
   "eqLabelWithNumbers": true,
   "eqNumInitial": 1,
   "hotkeys": {
    "equation": "Ctrl-E",
    "itemize": "Ctrl-I"
   },
   "labels_anchors": false,
   "latex_user_defs": false,
   "report_style_numbering": false,
   "user_envs_cfg": false
  }
 },
 "nbformat": 4,
 "nbformat_minor": 1
}
