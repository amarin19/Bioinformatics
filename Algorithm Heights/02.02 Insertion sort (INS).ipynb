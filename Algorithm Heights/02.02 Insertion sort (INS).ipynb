{
 "cells": [
  {
   "cell_type": "markdown",
   "metadata": {},
   "source": [
    "# Computing the number of swaps in insertion sort\n",
    "Insertion sort is a simple sorting algorithm that builds the final sorted array one item at a time. It is much less efficient on large lists than more advanced algorithms such as *“Quick Sort”*, *“Heap Sort”*, or *“Merge Sort”*. However, insertion sort provides several advantages: simple implementation, efficient for (quite) small data sets, $O(1)$ extra space.\n",
    "\n",
    "When humans manually sort something (for example, a deck of playing cards), most use a method that is similar to insertion sort. Although it is one of the elementary sorting algorithms with $O(n^2)$ worst-case time, insertion sort is the algorithm of choice either when the data is nearly sorted (because it is adaptive) or when the problem size is small (because it has low overhead).\n",
    "\n",
    "For these reasons, and because it is also stable, insertion sort is often used as the recursive base case (when the problem size is small) for higher overhead divide-and-conquer sorting algorithms, such as *“Merge Sort”* or *“Quick Sort”*. [Visualization by David R. Martin](http://www.sorting-algorithms.com/insertion-sort)\n",
    "\n",
    "## Problem 02.02\n",
    "\n",
    "Insertion sort is a simple algorithm with quadratic running time that builds the final sorted array one item at a time.\n",
    "\n",
    "![](http://rosalind.info/media/problems/ins/insertionsort.algo.png)\n",
    "\n",
    " * **Given**: A positive integer $n≤10^3$ and an array $A[1\\dots n]$ of integers.\n",
    " * **Return**: The number of swaps performed by insertion sort algorithm on $A[1\\dots n]$."
   ]
  },
  {
   "cell_type": "code",
   "execution_count": 1,
   "metadata": {},
   "outputs": [
    {
     "name": "stdout",
     "output_type": "stream",
     "text": [
      "189339\n"
     ]
    }
   ],
   "source": [
    "f = open('rosalind_ins.txt','r').read().strip().split('\\n')\n",
    "A = list(map(int,f[-1].split(' ')))\n",
    "\n",
    "def insertionSort(A):\n",
    "    swaps = 0\n",
    "    for i in range(len(A)):\n",
    "        k = i\n",
    "        while k>0 and A[k] < A[k-1]:\n",
    "            A[k], A[k-1] = A[k-1], A[k]\n",
    "            k = k-1\n",
    "            swaps += 1\n",
    "    return A, swaps\n",
    "\n",
    "print(insertionSort(A)[1])"
   ]
  }
 ],
 "metadata": {
  "kernelspec": {
   "display_name": "Python 3",
   "language": "python",
   "name": "python3"
  },
  "language_info": {
   "codemirror_mode": {
    "name": "ipython",
    "version": 3
   },
   "file_extension": ".py",
   "mimetype": "text/x-python",
   "name": "python",
   "nbconvert_exporter": "python",
   "pygments_lexer": "ipython3",
   "version": "3.6.7"
  },
  "latex_envs": {
   "LaTeX_envs_menu_present": true,
   "autoclose": false,
   "autocomplete": true,
   "bibliofile": "biblio.bib",
   "cite_by": "apalike",
   "current_citInitial": 1,
   "eqLabelWithNumbers": true,
   "eqNumInitial": 1,
   "hotkeys": {
    "equation": "Ctrl-E",
    "itemize": "Ctrl-I"
   },
   "labels_anchors": false,
   "latex_user_defs": false,
   "report_style_numbering": false,
   "user_envs_cfg": false
  }
 },
 "nbformat": 4,
 "nbformat_minor": 1
}
